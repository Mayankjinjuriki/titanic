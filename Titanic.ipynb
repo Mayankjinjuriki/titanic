{
 "cells": [
  {
   "cell_type": "code",
   "execution_count": 1,
   "id": "e1b7df25-6f25-4f93-acbd-a768aea7a237",
   "metadata": {},
   "outputs": [],
   "source": [
    "import numpy as np\n",
    "import pandas as pd \n",
    "import seaborn as sns\n",
    "import matplotlib.pyplot as plt\n",
    "import os\n",
    "for dirname, _, filenames in os.walk('/kaggle/input'):\n",
    "    for filename in filenames:\n",
    "        print(os.path.join(dirname, filename))"
   ]
  },
  {
   "cell_type": "code",
   "execution_count": 3,
   "id": "91bfe76c-6d32-41af-980a-a4743360fa34",
   "metadata": {},
   "outputs": [],
   "source": [
    "df=pd.read_csv('tested.csv')#read the dataset"
   ]
  },
  {
   "cell_type": "code",
   "execution_count": 4,
   "id": "2c151ce1-773e-402b-99b2-21d9a7b62017",
   "metadata": {},
   "outputs": [
    {
     "data": {
      "text/html": [
       "<div>\n",
       "<style scoped>\n",
       "    .dataframe tbody tr th:only-of-type {\n",
       "        vertical-align: middle;\n",
       "    }\n",
       "\n",
       "    .dataframe tbody tr th {\n",
       "        vertical-align: top;\n",
       "    }\n",
       "\n",
       "    .dataframe thead th {\n",
       "        text-align: right;\n",
       "    }\n",
       "</style>\n",
       "<table border=\"1\" class=\"dataframe\">\n",
       "  <thead>\n",
       "    <tr style=\"text-align: right;\">\n",
       "      <th></th>\n",
       "      <th>PassengerId</th>\n",
       "      <th>Survived</th>\n",
       "      <th>Pclass</th>\n",
       "      <th>Name</th>\n",
       "      <th>Sex</th>\n",
       "      <th>Age</th>\n",
       "      <th>SibSp</th>\n",
       "      <th>Parch</th>\n",
       "      <th>Ticket</th>\n",
       "      <th>Fare</th>\n",
       "      <th>Cabin</th>\n",
       "      <th>Embarked</th>\n",
       "    </tr>\n",
       "  </thead>\n",
       "  <tbody>\n",
       "    <tr>\n",
       "      <th>0</th>\n",
       "      <td>892</td>\n",
       "      <td>0</td>\n",
       "      <td>3</td>\n",
       "      <td>Kelly, Mr. James</td>\n",
       "      <td>male</td>\n",
       "      <td>34.5</td>\n",
       "      <td>0</td>\n",
       "      <td>0</td>\n",
       "      <td>330911</td>\n",
       "      <td>7.8292</td>\n",
       "      <td>NaN</td>\n",
       "      <td>Q</td>\n",
       "    </tr>\n",
       "    <tr>\n",
       "      <th>1</th>\n",
       "      <td>893</td>\n",
       "      <td>1</td>\n",
       "      <td>3</td>\n",
       "      <td>Wilkes, Mrs. James (Ellen Needs)</td>\n",
       "      <td>female</td>\n",
       "      <td>47.0</td>\n",
       "      <td>1</td>\n",
       "      <td>0</td>\n",
       "      <td>363272</td>\n",
       "      <td>7.0000</td>\n",
       "      <td>NaN</td>\n",
       "      <td>S</td>\n",
       "    </tr>\n",
       "    <tr>\n",
       "      <th>2</th>\n",
       "      <td>894</td>\n",
       "      <td>0</td>\n",
       "      <td>2</td>\n",
       "      <td>Myles, Mr. Thomas Francis</td>\n",
       "      <td>male</td>\n",
       "      <td>62.0</td>\n",
       "      <td>0</td>\n",
       "      <td>0</td>\n",
       "      <td>240276</td>\n",
       "      <td>9.6875</td>\n",
       "      <td>NaN</td>\n",
       "      <td>Q</td>\n",
       "    </tr>\n",
       "    <tr>\n",
       "      <th>3</th>\n",
       "      <td>895</td>\n",
       "      <td>0</td>\n",
       "      <td>3</td>\n",
       "      <td>Wirz, Mr. Albert</td>\n",
       "      <td>male</td>\n",
       "      <td>27.0</td>\n",
       "      <td>0</td>\n",
       "      <td>0</td>\n",
       "      <td>315154</td>\n",
       "      <td>8.6625</td>\n",
       "      <td>NaN</td>\n",
       "      <td>S</td>\n",
       "    </tr>\n",
       "    <tr>\n",
       "      <th>4</th>\n",
       "      <td>896</td>\n",
       "      <td>1</td>\n",
       "      <td>3</td>\n",
       "      <td>Hirvonen, Mrs. Alexander (Helga E Lindqvist)</td>\n",
       "      <td>female</td>\n",
       "      <td>22.0</td>\n",
       "      <td>1</td>\n",
       "      <td>1</td>\n",
       "      <td>3101298</td>\n",
       "      <td>12.2875</td>\n",
       "      <td>NaN</td>\n",
       "      <td>S</td>\n",
       "    </tr>\n",
       "  </tbody>\n",
       "</table>\n",
       "</div>"
      ],
      "text/plain": [
       "   PassengerId  Survived  Pclass  \\\n",
       "0          892         0       3   \n",
       "1          893         1       3   \n",
       "2          894         0       2   \n",
       "3          895         0       3   \n",
       "4          896         1       3   \n",
       "\n",
       "                                           Name     Sex   Age  SibSp  Parch  \\\n",
       "0                              Kelly, Mr. James    male  34.5      0      0   \n",
       "1              Wilkes, Mrs. James (Ellen Needs)  female  47.0      1      0   \n",
       "2                     Myles, Mr. Thomas Francis    male  62.0      0      0   \n",
       "3                              Wirz, Mr. Albert    male  27.0      0      0   \n",
       "4  Hirvonen, Mrs. Alexander (Helga E Lindqvist)  female  22.0      1      1   \n",
       "\n",
       "    Ticket     Fare Cabin Embarked  \n",
       "0   330911   7.8292   NaN        Q  \n",
       "1   363272   7.0000   NaN        S  \n",
       "2   240276   9.6875   NaN        Q  \n",
       "3   315154   8.6625   NaN        S  \n",
       "4  3101298  12.2875   NaN        S  "
      ]
     },
     "execution_count": 4,
     "metadata": {},
     "output_type": "execute_result"
    }
   ],
   "source": [
    "df.head()#todisplay some part(top5) rows"
   ]
  },
  {
   "cell_type": "code",
   "execution_count": 5,
   "id": "87ee7211-fc2b-4535-9191-5b50eac62a0a",
   "metadata": {},
   "outputs": [
    {
     "data": {
      "text/plain": [
       "PassengerId      0\n",
       "Survived         0\n",
       "Pclass           0\n",
       "Name             0\n",
       "Sex              0\n",
       "Age             86\n",
       "SibSp            0\n",
       "Parch            0\n",
       "Ticket           0\n",
       "Fare             1\n",
       "Cabin          327\n",
       "Embarked         0\n",
       "dtype: int64"
      ]
     },
     "execution_count": 5,
     "metadata": {},
     "output_type": "execute_result"
    }
   ],
   "source": [
    "df.isnull().sum()#to check that if any empty value in the data"
   ]
  },
  {
   "cell_type": "code",
   "execution_count": 7,
   "id": "a342066c-5d92-4d74-af53-8dba30852fb8",
   "metadata": {},
   "outputs": [
    {
     "name": "stdout",
     "output_type": "stream",
     "text": [
      "<class 'pandas.core.frame.DataFrame'>\n",
      "RangeIndex: 418 entries, 0 to 417\n",
      "Data columns (total 12 columns):\n",
      " #   Column       Non-Null Count  Dtype  \n",
      "---  ------       --------------  -----  \n",
      " 0   PassengerId  418 non-null    int64  \n",
      " 1   Survived     418 non-null    int64  \n",
      " 2   Pclass       418 non-null    int64  \n",
      " 3   Name         418 non-null    object \n",
      " 4   Sex          418 non-null    object \n",
      " 5   Age          332 non-null    float64\n",
      " 6   SibSp        418 non-null    int64  \n",
      " 7   Parch        418 non-null    int64  \n",
      " 8   Ticket       418 non-null    object \n",
      " 9   Fare         417 non-null    float64\n",
      " 10  Cabin        91 non-null     object \n",
      " 11  Embarked     418 non-null    object \n",
      "dtypes: float64(2), int64(5), object(5)\n",
      "memory usage: 39.3+ KB\n"
     ]
    }
   ],
   "source": [
    "df.info()#gives the summary of the data(Deepseek)"
   ]
  },
  {
   "cell_type": "code",
   "execution_count": 8,
   "id": "b9fe6152-5435-4ac2-88b6-5fcc73a4f496",
   "metadata": {},
   "outputs": [
    {
     "data": {
      "text/plain": [
       "<Axes: >"
      ]
     },
     "execution_count": 8,
     "metadata": {},
     "output_type": "execute_result"
    },
    {
     "data": {
      "image/png": "[encoded data removed]",
      "text/plain": [
       "<Figure size 640x480 with 1 Axes>"
      ]
     },
     "metadata": {},
     "output_type": "display_data"
    }
   ],
   "source": [
    "sns.heatmap(df.isnull(), cbar=False, cmap='viridis', yticklabels=True)#to get a heatmap ofthe given data"
   ]
  },
  {
   "cell_type": "code",
   "execution_count": 9,
   "id": "566ce157-e699-43a2-a6e0-0c82fd53406e",
   "metadata": {},
   "outputs": [
    {
     "data": {
      "text/plain": [
       "<Axes: xlabel='Survived', ylabel='Age'>"
      ]
     },
     "execution_count": 9,
     "metadata": {},
     "output_type": "execute_result"
    },
    {
     "data": {
      "image/png": "[encoded data removed]",
      "text/plain": [
       "<Figure size 1200x800 with 1 Axes>"
      ]
     },
     "metadata": {},
     "output_type": "display_data"
    }
   ],
   "source": [
    "plt.figure(figsize=(12,8))\n",
    "\n",
    "sns.barplot(y='Age', x='Survived', data=df, hue='Sex')#to make a bargraph of the number of survivars acording to their gender"
   ]
  },
  {
   "cell_type": "code",
   "execution_count": 11,
   "id": "87c157db-f854-4d92-8284-7910a4dddc9c",
   "metadata": {},
   "outputs": [
    {
     "data": {
      "text/plain": [
       "<Axes: ylabel='count'>"
      ]
     },
     "execution_count": 11,
     "metadata": {},
     "output_type": "execute_result"
    },
    {
     "data": {
      "image/png": "[encoded data removed]",
      "text/plain": [
       "<Figure size 640x480 with 1 Axes>"
      ]
     },
     "metadata": {},
     "output_type": "display_data"
    }
   ],
   "source": [
    "df['Sex'].value_counts().plot(kind='pie', autopct='1%.2f%%') #to make a piechart of the number of survivars in percentage(male & female)"
   ]
  },
  {
   "cell_type": "code",
   "execution_count": 13,
   "id": "555943f5-7a28-4495-bfdc-4c306928fcb7",
   "metadata": {},
   "outputs": [
    {
     "data": {
      "text/plain": [
       "<Axes: xlabel='Survived', ylabel='Age'>"
      ]
     },
     "execution_count": 13,
     "metadata": {},
     "output_type": "execute_result"
    },
    {
     "data": {
      "image/png": "[encoded data removed]",
      "text/plain": [
       "<Figure size 1200x800 with 1 Axes>"
      ]
     },
     "metadata": {},
     "output_type": "display_data"
    }
   ],
   "source": [
    "plt.figure(figsize=(12,8))\n",
    "sns.barplot(y='Age', x='Survived', data=df, hue='Pclass', palette='viridis')#to compare the survivars accordint to ther calss as well as gender(deepseek)"
   ]
  },
  {
   "cell_type": "code",
   "execution_count": 15,
   "id": "d79162a9-6a30-46f2-88e9-617477042e54",
   "metadata": {},
   "outputs": [
    {
     "data": {
      "text/plain": [
       "<Axes: xlabel='Survived', ylabel='count'>"
      ]
     },
     "execution_count": 15,
     "metadata": {},
     "output_type": "execute_result"
    },
    {
     "data": {
      "image/png": "[encoded data removed]",
      "text/plain": [
       "<Figure size 640x480 with 1 Axes>"
      ]
     },
     "metadata": {},
     "output_type": "display_data"
    }
   ],
   "source": [
    "sns.countplot(x='Survived', data=df,hue='Sex', palette='viridis')# to make a count plot of the survivars according to gender(deepseek)|"
   ]
  },
  {
   "cell_type": "code",
   "execution_count": 16,
   "id": "37588234-a499-4dcc-b63a-dff093248699",
   "metadata": {},
   "outputs": [
    {
     "data": {
      "text/plain": [
       "<Axes: ylabel='Frequency'>"
      ]
     },
     "execution_count": 16,
     "metadata": {},
     "output_type": "execute_result"
    },
    {
     "data": {
      "image/png": "[encoded data removed]",
      "text/plain": [
       "<Figure size 640x480 with 1 Axes>"
      ]
     },
     "metadata": {},
     "output_type": "display_data"
    }
   ],
   "source": [
    "df['Age'].value_counts().plot(kind='hist', bins=30)# to make a histogram to compare the surviovars accordint to their age"
   ]
  },
  {
   "cell_type": "code",
   "execution_count": 17,
   "id": "f79d930a-3905-40a2-bea7-99e47e2752f8",
   "metadata": {},
   "outputs": [
    {
     "data": {
      "text/plain": [
       "PassengerId      0\n",
       "Survived         0\n",
       "Pclass           0\n",
       "Name             0\n",
       "Sex              0\n",
       "Age             86\n",
       "SibSp            0\n",
       "Parch            0\n",
       "Ticket           0\n",
       "Fare             1\n",
       "Cabin          327\n",
       "Embarked         0\n",
       "dtype: int64"
      ]
     },
     "execution_count": 17,
     "metadata": {},
     "output_type": "execute_result"
    }
   ],
   "source": [
    "df.isnull().sum()#to check that if any empty value in the data"
   ]
  },
  {
   "cell_type": "code",
   "execution_count": 18,
   "id": "13e9f286-0fb2-4106-9f90-3b9bf5e0b089",
   "metadata": {},
   "outputs": [
    {
     "data": {
      "text/plain": [
       "<Axes: ylabel='Density'>"
      ]
     },
     "execution_count": 18,
     "metadata": {},
     "output_type": "execute_result"
    },
    {
     "data": {
      "image/png": "[encoded data removed]",
      "text/plain": [
       "<Figure size 640x480 with 1 Axes>"
      ]
     },
     "metadata": {},
     "output_type": "display_data"
    }
   ],
   "source": [
    "df['Age'].value_counts().plot(kind='kde')# to make a linegraph for the surviovars according to their age"
   ]
  },
  {
   "cell_type": "code",
   "execution_count": 22,
   "id": "542dcbbb-0448-4abe-8b82-6dae24f5774e",
   "metadata": {},
   "outputs": [
    {
     "name": "stderr",
     "output_type": "stream",
     "text": [
      "C:\\Users\\HP\\AppData\\Local\\Temp\\ipykernel_9452\\3066335130.py:1: FutureWarning: A value is trying to be set on a copy of a DataFrame or Series through chained assignment using an inplace method.\n",
      "The behavior will change in pandas 3.0. This inplace method will never work because the intermediate object on which we are setting values always behaves as a copy.\n",
      "\n",
      "For example, when doing 'df[col].method(value, inplace=True)', try using 'df.method({col: value}, inplace=True)' or df[col] = df[col].method(value) instead, to perform the operation inplace on the original object.\n",
      "\n",
      "\n",
      "  df['Age'].fillna(df['Age'].mean(), inplace=True)#to fill the missing values of age\n"
     ]
    }
   ],
   "source": [
    "df['Age'].fillna(df['Age'].mean(), inplace=True)#to fill the missing values of age"
   ]
  },
  {
   "cell_type": "code",
   "execution_count": 20,
   "id": "79bb3b4b-feb0-4577-aa4a-98947eff2168",
   "metadata": {},
   "outputs": [
    {
     "data": {
      "text/plain": [
       "<Axes: ylabel='Density'>"
      ]
     },
     "execution_count": 20,
     "metadata": {},
     "output_type": "execute_result"
    },
    {
     "data": {
      "image/png": "[encoded data removed]",
      "text/plain": [
       "<Figure size 640x480 with 1 Axes>"
      ]
     },
     "metadata": {},
     "output_type": "display_data"
    }
   ],
   "source": [
    "df['Cabin'].value_counts().plot(kind='kde')# to make a linegraph for the surviovars according to their age after filling the NaN values"
   ]
  },
  {
   "cell_type": "code",
   "execution_count": 21,
   "id": "21a58d74-fadc-45eb-bde3-5a337725ddd4",
   "metadata": {},
   "outputs": [
    {
     "name": "stderr",
     "output_type": "stream",
     "text": [
      "C:\\Users\\HP\\AppData\\Local\\Temp\\ipykernel_9452\\3329991514.py:1: FutureWarning: A value is trying to be set on a copy of a DataFrame or Series through chained assignment using an inplace method.\n",
      "The behavior will change in pandas 3.0. This inplace method will never work because the intermediate object on which we are setting values always behaves as a copy.\n",
      "\n",
      "For example, when doing 'df[col].method(value, inplace=True)', try using 'df.method({col: value}, inplace=True)' or df[col] = df[col].method(value) instead, to perform the operation inplace on the original object.\n",
      "\n",
      "\n",
      "  df['Cabin'].fillna(df['Cabin'].mode()[0], inplace=True)##to fill the missing values of cabin\n"
     ]
    }
   ],
   "source": [
    "df['Cabin'].fillna(df['Cabin'].mode()[0], inplace=True)##to fill the missing values of cabin"
   ]
  },
  {
   "cell_type": "code",
   "execution_count": 23,
   "id": "97616f48-85b9-4223-a96a-7e90472b89c7",
   "metadata": {},
   "outputs": [
    {
     "data": {
      "text/html": [
       "<div>\n",
       "<style scoped>\n",
       "    .dataframe tbody tr th:only-of-type {\n",
       "        vertical-align: middle;\n",
       "    }\n",
       "\n",
       "    .dataframe tbody tr th {\n",
       "        vertical-align: top;\n",
       "    }\n",
       "\n",
       "    .dataframe thead th {\n",
       "        text-align: right;\n",
       "    }\n",
       "</style>\n",
       "<table border=\"1\" class=\"dataframe\">\n",
       "  <thead>\n",
       "    <tr style=\"text-align: right;\">\n",
       "      <th></th>\n",
       "      <th>PassengerId</th>\n",
       "      <th>Survived</th>\n",
       "      <th>Pclass</th>\n",
       "      <th>Name</th>\n",
       "      <th>Sex</th>\n",
       "      <th>Age</th>\n",
       "      <th>SibSp</th>\n",
       "      <th>Parch</th>\n",
       "      <th>Ticket</th>\n",
       "      <th>Fare</th>\n",
       "      <th>Cabin</th>\n",
       "      <th>Embarked</th>\n",
       "    </tr>\n",
       "  </thead>\n",
       "  <tbody>\n",
       "    <tr>\n",
       "      <th>410</th>\n",
       "      <td>1302</td>\n",
       "      <td>1</td>\n",
       "      <td>3</td>\n",
       "      <td>Naughton, Miss. Hannah</td>\n",
       "      <td>female</td>\n",
       "      <td>30.27259</td>\n",
       "      <td>0</td>\n",
       "      <td>0</td>\n",
       "      <td>365237</td>\n",
       "      <td>7.7500</td>\n",
       "      <td>B57 B59 B63 B66</td>\n",
       "      <td>Q</td>\n",
       "    </tr>\n",
       "    <tr>\n",
       "      <th>322</th>\n",
       "      <td>1214</td>\n",
       "      <td>0</td>\n",
       "      <td>2</td>\n",
       "      <td>Nesson, Mr. Israel</td>\n",
       "      <td>male</td>\n",
       "      <td>26.00000</td>\n",
       "      <td>0</td>\n",
       "      <td>0</td>\n",
       "      <td>244368</td>\n",
       "      <td>13.0000</td>\n",
       "      <td>F2</td>\n",
       "      <td>S</td>\n",
       "    </tr>\n",
       "    <tr>\n",
       "      <th>298</th>\n",
       "      <td>1190</td>\n",
       "      <td>0</td>\n",
       "      <td>1</td>\n",
       "      <td>Loring, Mr. Joseph Holland</td>\n",
       "      <td>male</td>\n",
       "      <td>30.00000</td>\n",
       "      <td>0</td>\n",
       "      <td>0</td>\n",
       "      <td>113801</td>\n",
       "      <td>45.5000</td>\n",
       "      <td>B57 B59 B63 B66</td>\n",
       "      <td>S</td>\n",
       "    </tr>\n",
       "    <tr>\n",
       "      <th>283</th>\n",
       "      <td>1175</td>\n",
       "      <td>1</td>\n",
       "      <td>3</td>\n",
       "      <td>Touma, Miss. Maria Youssef</td>\n",
       "      <td>female</td>\n",
       "      <td>9.00000</td>\n",
       "      <td>1</td>\n",
       "      <td>1</td>\n",
       "      <td>2650</td>\n",
       "      <td>15.2458</td>\n",
       "      <td>B57 B59 B63 B66</td>\n",
       "      <td>C</td>\n",
       "    </tr>\n",
       "    <tr>\n",
       "      <th>90</th>\n",
       "      <td>982</td>\n",
       "      <td>1</td>\n",
       "      <td>3</td>\n",
       "      <td>Dyker, Mrs. Adolf Fredrik (Anna Elisabeth Judi...</td>\n",
       "      <td>female</td>\n",
       "      <td>22.00000</td>\n",
       "      <td>1</td>\n",
       "      <td>0</td>\n",
       "      <td>347072</td>\n",
       "      <td>13.9000</td>\n",
       "      <td>B57 B59 B63 B66</td>\n",
       "      <td>S</td>\n",
       "    </tr>\n",
       "  </tbody>\n",
       "</table>\n",
       "</div>"
      ],
      "text/plain": [
       "     PassengerId  Survived  Pclass  \\\n",
       "410         1302         1       3   \n",
       "322         1214         0       2   \n",
       "298         1190         0       1   \n",
       "283         1175         1       3   \n",
       "90           982         1       3   \n",
       "\n",
       "                                                  Name     Sex       Age  \\\n",
       "410                             Naughton, Miss. Hannah  female  30.27259   \n",
       "322                                 Nesson, Mr. Israel    male  26.00000   \n",
       "298                         Loring, Mr. Joseph Holland    male  30.00000   \n",
       "283                         Touma, Miss. Maria Youssef  female   9.00000   \n",
       "90   Dyker, Mrs. Adolf Fredrik (Anna Elisabeth Judi...  female  22.00000   \n",
       "\n",
       "     SibSp  Parch  Ticket     Fare            Cabin Embarked  \n",
       "410      0      0  365237   7.7500  B57 B59 B63 B66        Q  \n",
       "322      0      0  244368  13.0000               F2        S  \n",
       "298      0      0  113801  45.5000  B57 B59 B63 B66        S  \n",
       "283      1      1    2650  15.2458  B57 B59 B63 B66        C  \n",
       "90       1      0  347072  13.9000  B57 B59 B63 B66        S  "
      ]
     },
     "execution_count": 23,
     "metadata": {},
     "output_type": "execute_result"
    }
   ],
   "source": [
    "df.sample(5)#to take any 5 sample from the dataset"
   ]
  },
  {
   "cell_type": "code",
   "execution_count": 24,
   "id": "7cfb3116-7cec-4f1a-92e9-3f418242aada",
   "metadata": {},
   "outputs": [],
   "source": [
    "df.dropna(subset=['Fare'], inplace=True)#Ensures that no rows with missing fare values remain in the dataset.(deepseek)"
   ]
  },
  {
   "cell_type": "code",
   "execution_count": 25,
   "id": "1eb176f4-dc2d-4abb-bd18-459a56a44faa",
   "metadata": {},
   "outputs": [
    {
     "data": {
      "text/plain": [
       "<Axes: >"
      ]
     },
     "execution_count": 25,
     "metadata": {},
     "output_type": "execute_result"
    },
    {
     "data": {
      "image/png": "[encoded data removed]",
      "text/plain": [
       "<Figure size 640x480 with 1 Axes>"
      ]
     },
     "metadata": {},
     "output_type": "display_data"
    }
   ],
   "source": [
    "sns.heatmap(df.isnull(), cbar=False, cmap='viridis', yticklabels=True)# to cheak any empty space in data with heat map"
   ]
  },
  {
   "cell_type": "code",
   "execution_count": 26,
   "id": "235ef3bb-0ebc-4de3-ac7b-6c2df7412a09",
   "metadata": {},
   "outputs": [],
   "source": [
    "from sklearn.preprocessing import LabelEncoder\n",
    "from sklearn.linear_model import LinearRegression\n",
    "from sklearn.linear_model import LogisticRegression\n",
    "from sklearn.tree import DecisionTreeRegressor,DecisionTreeClassifier\n",
    "from sklearn.ensemble import RandomForestClassifier, RandomForestRegressor\n",
    "from sklearn.model_selection import train_test_split\n",
    "from sklearn.metrics import mean_squared_error, mean_absolute_error, r2_score"
   ]
  },
  {
   "cell_type": "code",
   "execution_count": 27,
   "id": "37e570a5-080a-4e79-996e-fb0fb695ddd5",
   "metadata": {},
   "outputs": [],
   "source": [
    "le=LabelEncoder()\n",
    "df['Sex']=le.fit_transform(df['Sex']) #to chang the string of the dataset to binary"
   ]
  },
  {
   "cell_type": "code",
   "execution_count": 30,
   "id": "c8f200cf-cd8a-45c2-976b-ab38e17b9825",
   "metadata": {},
   "outputs": [],
   "source": [
    "df_encode = pd.get_dummies(df, columns=['Embarked'], drop_first=True)\n",
    "dummy_cols = [col for col in df_encode.columns if 'Embarked' in col]\n",
    "df_encode[dummy_cols] = df_encode[dummy_cols].astype(int)# to change the remaing data to binary no. (execpt those which cannotbe converted like age,name,pclass,etc)"
   ]
  },
  {
   "cell_type": "code",
   "execution_count": 29,
   "id": "7638a70a-0863-48ae-93c5-cc9bfd1c8786",
   "metadata": {},
   "outputs": [
    {
     "data": {
      "text/html": [
       "<div>\n",
       "<style scoped>\n",
       "    .dataframe tbody tr th:only-of-type {\n",
       "        vertical-align: middle;\n",
       "    }\n",
       "\n",
       "    .dataframe tbody tr th {\n",
       "        vertical-align: top;\n",
       "    }\n",
       "\n",
       "    .dataframe thead th {\n",
       "        text-align: right;\n",
       "    }\n",
       "</style>\n",
       "<table border=\"1\" class=\"dataframe\">\n",
       "  <thead>\n",
       "    <tr style=\"text-align: right;\">\n",
       "      <th></th>\n",
       "      <th>PassengerId</th>\n",
       "      <th>Survived</th>\n",
       "      <th>Pclass</th>\n",
       "      <th>Name</th>\n",
       "      <th>Sex</th>\n",
       "      <th>Age</th>\n",
       "      <th>SibSp</th>\n",
       "      <th>Parch</th>\n",
       "      <th>Ticket</th>\n",
       "      <th>Fare</th>\n",
       "      <th>Cabin</th>\n",
       "      <th>Embarked_Q</th>\n",
       "      <th>Embarked_S</th>\n",
       "    </tr>\n",
       "  </thead>\n",
       "  <tbody>\n",
       "    <tr>\n",
       "      <th>0</th>\n",
       "      <td>892</td>\n",
       "      <td>0</td>\n",
       "      <td>3</td>\n",
       "      <td>Kelly, Mr. James</td>\n",
       "      <td>1</td>\n",
       "      <td>34.50000</td>\n",
       "      <td>0</td>\n",
       "      <td>0</td>\n",
       "      <td>330911</td>\n",
       "      <td>7.8292</td>\n",
       "      <td>B57 B59 B63 B66</td>\n",
       "      <td>1</td>\n",
       "      <td>0</td>\n",
       "    </tr>\n",
       "    <tr>\n",
       "      <th>1</th>\n",
       "      <td>893</td>\n",
       "      <td>1</td>\n",
       "      <td>3</td>\n",
       "      <td>Wilkes, Mrs. James (Ellen Needs)</td>\n",
       "      <td>0</td>\n",
       "      <td>47.00000</td>\n",
       "      <td>1</td>\n",
       "      <td>0</td>\n",
       "      <td>363272</td>\n",
       "      <td>7.0000</td>\n",
       "      <td>B57 B59 B63 B66</td>\n",
       "      <td>0</td>\n",
       "      <td>1</td>\n",
       "    </tr>\n",
       "    <tr>\n",
       "      <th>2</th>\n",
       "      <td>894</td>\n",
       "      <td>0</td>\n",
       "      <td>2</td>\n",
       "      <td>Myles, Mr. Thomas Francis</td>\n",
       "      <td>1</td>\n",
       "      <td>62.00000</td>\n",
       "      <td>0</td>\n",
       "      <td>0</td>\n",
       "      <td>240276</td>\n",
       "      <td>9.6875</td>\n",
       "      <td>B57 B59 B63 B66</td>\n",
       "      <td>1</td>\n",
       "      <td>0</td>\n",
       "    </tr>\n",
       "    <tr>\n",
       "      <th>3</th>\n",
       "      <td>895</td>\n",
       "      <td>0</td>\n",
       "      <td>3</td>\n",
       "      <td>Wirz, Mr. Albert</td>\n",
       "      <td>1</td>\n",
       "      <td>27.00000</td>\n",
       "      <td>0</td>\n",
       "      <td>0</td>\n",
       "      <td>315154</td>\n",
       "      <td>8.6625</td>\n",
       "      <td>B57 B59 B63 B66</td>\n",
       "      <td>0</td>\n",
       "      <td>1</td>\n",
       "    </tr>\n",
       "    <tr>\n",
       "      <th>4</th>\n",
       "      <td>896</td>\n",
       "      <td>1</td>\n",
       "      <td>3</td>\n",
       "      <td>Hirvonen, Mrs. Alexander (Helga E Lindqvist)</td>\n",
       "      <td>0</td>\n",
       "      <td>22.00000</td>\n",
       "      <td>1</td>\n",
       "      <td>1</td>\n",
       "      <td>3101298</td>\n",
       "      <td>12.2875</td>\n",
       "      <td>B57 B59 B63 B66</td>\n",
       "      <td>0</td>\n",
       "      <td>1</td>\n",
       "    </tr>\n",
       "    <tr>\n",
       "      <th>...</th>\n",
       "      <td>...</td>\n",
       "      <td>...</td>\n",
       "      <td>...</td>\n",
       "      <td>...</td>\n",
       "      <td>...</td>\n",
       "      <td>...</td>\n",
       "      <td>...</td>\n",
       "      <td>...</td>\n",
       "      <td>...</td>\n",
       "      <td>...</td>\n",
       "      <td>...</td>\n",
       "      <td>...</td>\n",
       "      <td>...</td>\n",
       "    </tr>\n",
       "    <tr>\n",
       "      <th>413</th>\n",
       "      <td>1305</td>\n",
       "      <td>0</td>\n",
       "      <td>3</td>\n",
       "      <td>Spector, Mr. Woolf</td>\n",
       "      <td>1</td>\n",
       "      <td>30.27259</td>\n",
       "      <td>0</td>\n",
       "      <td>0</td>\n",
       "      <td>A.5. 3236</td>\n",
       "      <td>8.0500</td>\n",
       "      <td>B57 B59 B63 B66</td>\n",
       "      <td>0</td>\n",
       "      <td>1</td>\n",
       "    </tr>\n",
       "    <tr>\n",
       "      <th>414</th>\n",
       "      <td>1306</td>\n",
       "      <td>1</td>\n",
       "      <td>1</td>\n",
       "      <td>Oliva y Ocana, Dona. Fermina</td>\n",
       "      <td>0</td>\n",
       "      <td>39.00000</td>\n",
       "      <td>0</td>\n",
       "      <td>0</td>\n",
       "      <td>PC 17758</td>\n",
       "      <td>108.9000</td>\n",
       "      <td>C105</td>\n",
       "      <td>0</td>\n",
       "      <td>0</td>\n",
       "    </tr>\n",
       "    <tr>\n",
       "      <th>415</th>\n",
       "      <td>1307</td>\n",
       "      <td>0</td>\n",
       "      <td>3</td>\n",
       "      <td>Saether, Mr. Simon Sivertsen</td>\n",
       "      <td>1</td>\n",
       "      <td>38.50000</td>\n",
       "      <td>0</td>\n",
       "      <td>0</td>\n",
       "      <td>SOTON/O.Q. 3101262</td>\n",
       "      <td>7.2500</td>\n",
       "      <td>B57 B59 B63 B66</td>\n",
       "      <td>0</td>\n",
       "      <td>1</td>\n",
       "    </tr>\n",
       "    <tr>\n",
       "      <th>416</th>\n",
       "      <td>1308</td>\n",
       "      <td>0</td>\n",
       "      <td>3</td>\n",
       "      <td>Ware, Mr. Frederick</td>\n",
       "      <td>1</td>\n",
       "      <td>30.27259</td>\n",
       "      <td>0</td>\n",
       "      <td>0</td>\n",
       "      <td>359309</td>\n",
       "      <td>8.0500</td>\n",
       "      <td>B57 B59 B63 B66</td>\n",
       "      <td>0</td>\n",
       "      <td>1</td>\n",
       "    </tr>\n",
       "    <tr>\n",
       "      <th>417</th>\n",
       "      <td>1309</td>\n",
       "      <td>0</td>\n",
       "      <td>3</td>\n",
       "      <td>Peter, Master. Michael J</td>\n",
       "      <td>1</td>\n",
       "      <td>30.27259</td>\n",
       "      <td>1</td>\n",
       "      <td>1</td>\n",
       "      <td>2668</td>\n",
       "      <td>22.3583</td>\n",
       "      <td>B57 B59 B63 B66</td>\n",
       "      <td>0</td>\n",
       "      <td>0</td>\n",
       "    </tr>\n",
       "  </tbody>\n",
       "</table>\n",
       "<p>417 rows × 13 columns</p>\n",
       "</div>"
      ],
      "text/plain": [
       "     PassengerId  Survived  Pclass  \\\n",
       "0            892         0       3   \n",
       "1            893         1       3   \n",
       "2            894         0       2   \n",
       "3            895         0       3   \n",
       "4            896         1       3   \n",
       "..           ...       ...     ...   \n",
       "413         1305         0       3   \n",
       "414         1306         1       1   \n",
       "415         1307         0       3   \n",
       "416         1308         0       3   \n",
       "417         1309         0       3   \n",
       "\n",
       "                                             Name  Sex       Age  SibSp  \\\n",
       "0                                Kelly, Mr. James    1  34.50000      0   \n",
       "1                Wilkes, Mrs. James (Ellen Needs)    0  47.00000      1   \n",
       "2                       Myles, Mr. Thomas Francis    1  62.00000      0   \n",
       "3                                Wirz, Mr. Albert    1  27.00000      0   \n",
       "4    Hirvonen, Mrs. Alexander (Helga E Lindqvist)    0  22.00000      1   \n",
       "..                                            ...  ...       ...    ...   \n",
       "413                            Spector, Mr. Woolf    1  30.27259      0   \n",
       "414                  Oliva y Ocana, Dona. Fermina    0  39.00000      0   \n",
       "415                  Saether, Mr. Simon Sivertsen    1  38.50000      0   \n",
       "416                           Ware, Mr. Frederick    1  30.27259      0   \n",
       "417                      Peter, Master. Michael J    1  30.27259      1   \n",
       "\n",
       "     Parch              Ticket      Fare            Cabin  Embarked_Q  \\\n",
       "0        0              330911    7.8292  B57 B59 B63 B66           1   \n",
       "1        0              363272    7.0000  B57 B59 B63 B66           0   \n",
       "2        0              240276    9.6875  B57 B59 B63 B66           1   \n",
       "3        0              315154    8.6625  B57 B59 B63 B66           0   \n",
       "4        1             3101298   12.2875  B57 B59 B63 B66           0   \n",
       "..     ...                 ...       ...              ...         ...   \n",
       "413      0           A.5. 3236    8.0500  B57 B59 B63 B66           0   \n",
       "414      0            PC 17758  108.9000             C105           0   \n",
       "415      0  SOTON/O.Q. 3101262    7.2500  B57 B59 B63 B66           0   \n",
       "416      0              359309    8.0500  B57 B59 B63 B66           0   \n",
       "417      1                2668   22.3583  B57 B59 B63 B66           0   \n",
       "\n",
       "     Embarked_S  \n",
       "0             0  \n",
       "1             1  \n",
       "2             0  \n",
       "3             1  \n",
       "4             1  \n",
       "..          ...  \n",
       "413           1  \n",
       "414           0  \n",
       "415           1  \n",
       "416           1  \n",
       "417           0  \n",
       "\n",
       "[417 rows x 13 columns]"
      ]
     },
     "execution_count": 29,
     "metadata": {},
     "output_type": "execute_result"
    }
   ],
   "source": [
    "df_encode#to display the new encoded data"
   ]
  },
  {
   "cell_type": "code",
   "execution_count": 31,
   "id": "a48b4ff0-5a91-498f-b153-d755fd8c9c6e",
   "metadata": {},
   "outputs": [],
   "source": [
    "x=df_encode.drop(columns=['PassengerId','Name','Ticket','Cabin'], axis=1)\n",
    "y=df_encode['Survived']# to change some more rows into binary no."
   ]
  },
  {
   "cell_type": "code",
   "execution_count": 33,
   "id": "26caaf62-37c9-4150-b62a-0e11c50753ef",
   "metadata": {},
   "outputs": [],
   "source": [
    "x_train,x_test,y_train,y_test=train_test_split(x,y,test_size=0.2, random_state=42)#to seperate training modle and test modle"
   ]
  },
  {
   "cell_type": "code",
   "execution_count": 34,
   "id": "02c4c33a-85e7-45d6-8008-429c6d287e06",
   "metadata": {},
   "outputs": [
    {
     "name": "stdout",
     "output_type": "stream",
     "text": [
      "R2 Score:  1.0\n",
      "MSE: 2.144862323589198e-30\n",
      "MAE: 1.0903976134711359e-15\n"
     ]
    }
   ],
   "source": [
    "model=LinearRegression()# Creates a linear regression model\n",
    "model.fit(x_train,y_train)# Trains the model on training data\n",
    "y_pred=model.predict(x_test)# Predicts target values for test data\n",
    "print(\"R2 Score: \",r2_score(y_pred,y_test))# R-squared (accuracy)\n",
    "print(\"MSE:\",mean_squared_error(y_pred,y_test) )# Mean Squared Error\n",
    "print(\"MAE:\",mean_absolute_error(y_pred,y_test))# Mean Absolute Error"
   ]
  },
  {
   "cell_type": "code",
   "execution_count": 35,
   "id": "3ea29511-5df6-4ddc-a8ce-8ee7aa816567",
   "metadata": {},
   "outputs": [
    {
     "name": "stdout",
     "output_type": "stream",
     "text": [
      "R2 Score:  1.0\n",
      "MSE: 2.144862323589198e-30\n",
      "MAE: 1.0903976134711359e-15\n"
     ]
    }
   ],
   "source": [
    "Model_lr=LogisticRegression()# Creates a logistic regression model\n",
    "Model_lr.fit(x_train,y_train)# Trains the model on training data\n",
    "y_pred_lr=model.predict(x_test)# Predicts target values for test data\n",
    "print(\"R2 Score: \",r2_score(y_pred_lr,y_test))# R-squared (accuracy)\n",
    "print(\"MSE:\",mean_squared_error(y_pred_lr,y_test) )# Mean Squared Error\n",
    "print(\"MAE:\",mean_absolute_error(y_pred_lr,y_test))# Mean Absolute Error"
   ]
  },
  {
   "cell_type": "code",
   "execution_count": 36,
   "id": "cb29c04f-7cfe-48b6-b52c-930371865f73",
   "metadata": {},
   "outputs": [
    {
     "name": "stdout",
     "output_type": "stream",
     "text": [
      "R2 Score:  1.0\n",
      "MSE: 2.144862323589198e-30\n",
      "MAE: 1.0903976134711359e-15\n"
     ]
    }
   ],
   "source": [
    "model_dt=DecisionTreeRegressor()# Creates a dicision tree regression model\n",
    "model_dt.fit(x_train,y_train)# Trains the model on training data\n",
    "y_pred_dt=model.predict(x_test)# Predicts target values for test data\n",
    "print(\"R2 Score: \",r2_score(y_pred_dt,y_test))# R-squared (accuracy)\n",
    "print(\"MSE:\",mean_squared_error(y_pred_dt,y_test) )# Mean Squared Error\n",
    "print(\"MAE:\",mean_absolute_error(y_pred_dt,y_test))# Mean Absolute Error"
   ]
  },
  {
   "cell_type": "code",
   "execution_count": 37,
   "id": "17f06df6-4ab2-45e7-bf75-5130b2599768",
   "metadata": {},
   "outputs": [
    {
     "name": "stdout",
     "output_type": "stream",
     "text": [
      "R2 Score:  1.0\n",
      "MSE: 2.144862323589198e-30\n",
      "MAE: 1.0903976134711359e-15\n"
     ]
    }
   ],
   "source": [
    "R=RandomForestRegressor()# Creates a random forest regression model\n",
    "R.fit(x_train,y_train)# Trains the model on training data\n",
    "y_pred_R=model.predict(x_test)# Predicts target values for test data\n",
    "print(\"R2 Score: \",r2_score(y_pred_R,y_test))# R-squared (accuracy)\n",
    "print(\"MSE:\",mean_squared_error(y_pred_R,y_test) )# Mean Squared Error\n",
    "print(\"MAE:\",mean_absolute_error(y_pred_R,y_test))# Mean Absolute Error"
   ]
  },
  {
   "cell_type": "code",
   "execution_count": 38,
   "id": "ee2a0780-9153-4671-8d0c-d7b22f4d8bea",
   "metadata": {},
   "outputs": [],
   "source": [
    "clf1=DecisionTreeClassifier(max_depth=5)# to create variable of dtc(classifiy dtr)\n",
    "clf2=RandomForestClassifier(max_depth=5, n_estimators=100, random_state=42)# to create variable of rfc(classifiy rfr)"
   ]
  },
  {
   "cell_type": "code",
   "execution_count": 39,
   "id": "ae3543b6-74cb-489e-8799-d251f49eccf4",
   "metadata": {},
   "outputs": [
    {
     "name": "stdout",
     "output_type": "stream",
     "text": [
      "R2 Score:  1.0\n",
      "MSE: 2.144862323589198e-30\n",
      "MAE: 1.0903976134711359e-15\n"
     ]
    }
   ],
   "source": [
    "clf1.fit(x_train,y_train)\n",
    "y_pred_clf1=model.predict(x_test)\n",
    "print(\"R2 Score: \",r2_score(y_pred_clf1,y_test))\n",
    "print(\"MSE:\",mean_squared_error(y_pred_clf1,y_test) )\n",
    "print(\"MAE:\",mean_absolute_error(y_pred_clf1,y_test))#same thing for dtr"
   ]
  },
  {
   "cell_type": "code",
   "execution_count": 40,
   "id": "9d813a32-efb0-4fee-b6e3-0cd4fbf84d49",
   "metadata": {},
   "outputs": [
    {
     "name": "stdout",
     "output_type": "stream",
     "text": [
      "R2 Score:  1.0\n",
      "MSE: 2.144862323589198e-30\n",
      "MAE: 1.0903976134711359e-15\n"
     ]
    }
   ],
   "source": [
    "clf2.fit(x_train,y_train)\n",
    "y_pred_clf2=model.predict(x_test)\n",
    "print(\"R2 Score: \",r2_score(y_pred_clf2,y_test))\n",
    "print(\"MSE:\",mean_squared_error(y_pred_clf2,y_test) )\n",
    "print(\"MAE:\",mean_absolute_error(y_pred_clf2,y_test))#same thing for rfr"
   ]
  },
  {
   "cell_type": "code",
   "execution_count": null,
   "id": "769ce208-5c53-429f-9c6f-a6588dca5ca6",
   "metadata": {},
   "outputs": [],
   "source": []
  }
 ],
 "metadata": {
  "kernelspec": {
   "display_name": "Python 3 (ipykernel)",
   "language": "python",
   "name": "python3"
  },
  "language_info": {
   "codemirror_mode": {
    "name": "ipython",
    "version": 3
   },
   "file_extension": ".py",
   "mimetype": "text/x-python",
   "name": "python",
   "nbconvert_exporter": "python",
   "pygments_lexer": "ipython3",
   "version": "3.12.7"
  }
 },
 "nbformat": 4,
 "nbformat_minor": 5
}
